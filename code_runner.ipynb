{
  "nbformat": 4,
  "nbformat_minor": 0,
  "metadata": {
    "colab": {
      "provenance": [],
      "machine_shape": "hm",
      "gpuType": "L4"
    },
    "kernelspec": {
      "name": "python3",
      "display_name": "Python 3"
    },
    "language_info": {
      "name": "python"
    },
    "accelerator": "GPU"
  },
  "cells": [
    {
      "cell_type": "code",
      "source": [
        "!pip install dask_cuda"
      ],
      "metadata": {
        "colab": {
          "base_uri": "https://localhost:8080/"
        },
        "id": "i3zMjNI5CFWz",
        "outputId": "4282c0f9-84a0-4f14-f1d9-91ce50dd5dae"
      },
      "execution_count": 1,
      "outputs": [
        {
          "output_type": "stream",
          "name": "stdout",
          "text": [
            "Requirement already satisfied: dask_cuda in /usr/local/lib/python3.10/dist-packages (24.10.0)\n",
            "Requirement already satisfied: click>=8.1 in /usr/local/lib/python3.10/dist-packages (from dask_cuda) (8.1.7)\n",
            "Requirement already satisfied: numba>=0.57 in /usr/local/lib/python3.10/dist-packages (from dask_cuda) (0.60.0)\n",
            "Requirement already satisfied: numpy<3.0a0,>=1.23 in /usr/local/lib/python3.10/dist-packages (from dask_cuda) (1.26.4)\n",
            "Requirement already satisfied: pandas>=1.3 in /usr/local/lib/python3.10/dist-packages (from dask_cuda) (2.2.2)\n",
            "Requirement already satisfied: pynvml<11.5,>=11.0.0 in /usr/local/lib/python3.10/dist-packages (from dask_cuda) (11.4.1)\n",
            "Requirement already satisfied: rapids-dask-dependency==24.10.* in /usr/local/lib/python3.10/dist-packages (from dask_cuda) (24.10.0)\n",
            "Requirement already satisfied: zict>=2.0.0 in /usr/local/lib/python3.10/dist-packages (from dask_cuda) (3.0.0)\n",
            "Requirement already satisfied: dask==2024.9.0 in /usr/local/lib/python3.10/dist-packages (from rapids-dask-dependency==24.10.*->dask_cuda) (2024.9.0)\n",
            "Requirement already satisfied: distributed==2024.9.0 in /usr/local/lib/python3.10/dist-packages (from rapids-dask-dependency==24.10.*->dask_cuda) (2024.9.0)\n",
            "Requirement already satisfied: dask-expr==1.1.14 in /usr/local/lib/python3.10/dist-packages (from rapids-dask-dependency==24.10.*->dask_cuda) (1.1.14)\n",
            "Requirement already satisfied: cloudpickle>=3.0.0 in /usr/local/lib/python3.10/dist-packages (from dask==2024.9.0->rapids-dask-dependency==24.10.*->dask_cuda) (3.1.0)\n",
            "Requirement already satisfied: fsspec>=2021.09.0 in /usr/local/lib/python3.10/dist-packages (from dask==2024.9.0->rapids-dask-dependency==24.10.*->dask_cuda) (2024.10.0)\n",
            "Requirement already satisfied: packaging>=20.0 in /usr/local/lib/python3.10/dist-packages (from dask==2024.9.0->rapids-dask-dependency==24.10.*->dask_cuda) (24.2)\n",
            "Requirement already satisfied: partd>=1.4.0 in /usr/local/lib/python3.10/dist-packages (from dask==2024.9.0->rapids-dask-dependency==24.10.*->dask_cuda) (1.4.2)\n",
            "Requirement already satisfied: pyyaml>=5.3.1 in /usr/local/lib/python3.10/dist-packages (from dask==2024.9.0->rapids-dask-dependency==24.10.*->dask_cuda) (6.0.2)\n",
            "Requirement already satisfied: toolz>=0.10.0 in /usr/local/lib/python3.10/dist-packages (from dask==2024.9.0->rapids-dask-dependency==24.10.*->dask_cuda) (0.12.1)\n",
            "Requirement already satisfied: importlib-metadata>=4.13.0 in /usr/local/lib/python3.10/dist-packages (from dask==2024.9.0->rapids-dask-dependency==24.10.*->dask_cuda) (8.5.0)\n",
            "Requirement already satisfied: pyarrow>=14.0.1 in /usr/local/lib/python3.10/dist-packages (from dask-expr==1.1.14->rapids-dask-dependency==24.10.*->dask_cuda) (17.0.0)\n",
            "Requirement already satisfied: jinja2>=2.10.3 in /usr/local/lib/python3.10/dist-packages (from distributed==2024.9.0->rapids-dask-dependency==24.10.*->dask_cuda) (3.1.4)\n",
            "Requirement already satisfied: locket>=1.0.0 in /usr/local/lib/python3.10/dist-packages (from distributed==2024.9.0->rapids-dask-dependency==24.10.*->dask_cuda) (1.0.0)\n",
            "Requirement already satisfied: msgpack>=1.0.2 in /usr/local/lib/python3.10/dist-packages (from distributed==2024.9.0->rapids-dask-dependency==24.10.*->dask_cuda) (1.1.0)\n",
            "Requirement already satisfied: psutil>=5.8.0 in /usr/local/lib/python3.10/dist-packages (from distributed==2024.9.0->rapids-dask-dependency==24.10.*->dask_cuda) (5.9.5)\n",
            "Requirement already satisfied: sortedcontainers>=2.0.5 in /usr/local/lib/python3.10/dist-packages (from distributed==2024.9.0->rapids-dask-dependency==24.10.*->dask_cuda) (2.4.0)\n",
            "Requirement already satisfied: tblib>=1.6.0 in /usr/local/lib/python3.10/dist-packages (from distributed==2024.9.0->rapids-dask-dependency==24.10.*->dask_cuda) (3.0.0)\n",
            "Requirement already satisfied: tornado>=6.2.0 in /usr/local/lib/python3.10/dist-packages (from distributed==2024.9.0->rapids-dask-dependency==24.10.*->dask_cuda) (6.3.3)\n",
            "Requirement already satisfied: urllib3>=1.26.5 in /usr/local/lib/python3.10/dist-packages (from distributed==2024.9.0->rapids-dask-dependency==24.10.*->dask_cuda) (2.2.3)\n",
            "Requirement already satisfied: llvmlite<0.44,>=0.43.0dev0 in /usr/local/lib/python3.10/dist-packages (from numba>=0.57->dask_cuda) (0.43.0)\n",
            "Requirement already satisfied: python-dateutil>=2.8.2 in /usr/local/lib/python3.10/dist-packages (from pandas>=1.3->dask_cuda) (2.8.2)\n",
            "Requirement already satisfied: pytz>=2020.1 in /usr/local/lib/python3.10/dist-packages (from pandas>=1.3->dask_cuda) (2024.2)\n",
            "Requirement already satisfied: tzdata>=2022.7 in /usr/local/lib/python3.10/dist-packages (from pandas>=1.3->dask_cuda) (2024.2)\n",
            "Requirement already satisfied: six>=1.5 in /usr/local/lib/python3.10/dist-packages (from python-dateutil>=2.8.2->pandas>=1.3->dask_cuda) (1.16.0)\n",
            "Requirement already satisfied: zipp>=3.20 in /usr/local/lib/python3.10/dist-packages (from importlib-metadata>=4.13.0->dask==2024.9.0->rapids-dask-dependency==24.10.*->dask_cuda) (3.21.0)\n",
            "Requirement already satisfied: MarkupSafe>=2.0 in /usr/local/lib/python3.10/dist-packages (from jinja2>=2.10.3->distributed==2024.9.0->rapids-dask-dependency==24.10.*->dask_cuda) (3.0.2)\n"
          ]
        }
      ]
    },
    {
      "cell_type": "code",
      "source": [
        "import os\n",
        "import sys\n",
        "cwd = os.getcwd()\n",
        "sys.path.append(cwd)"
      ],
      "metadata": {
        "id": "PnTSSvXNIYU8"
      },
      "execution_count": 1,
      "outputs": []
    },
    {
      "cell_type": "code",
      "source": [
        "import processor\n",
        "import numpy as np\n",
        "import tensorflow as tf\n",
        "import random\n",
        "import time\n",
        "\n",
        "import synthetic_data_generator\n",
        "import evaluation\n",
        "\n",
        "from dask_cuda import LocalCUDACluster\n",
        "from dask.distributed import Client"
      ],
      "metadata": {
        "id": "Ik2i7Qm65u-b"
      },
      "execution_count": 2,
      "outputs": []
    },
    {
      "cell_type": "code",
      "source": [
        "cluster = LocalCUDACluster()\n",
        "client = Client(cluster)"
      ],
      "metadata": {
        "colab": {
          "base_uri": "https://localhost:8080/"
        },
        "id": "PutXM4RVB-H-",
        "outputId": "1d4da1ea-688e-469e-f0d9-a376344b2b30"
      },
      "execution_count": 3,
      "outputs": [
        {
          "output_type": "stream",
          "name": "stderr",
          "text": [
            "INFO:distributed.http.proxy:To route to workers diagnostics web server please install jupyter-server-proxy: python -m pip install jupyter-server-proxy\n",
            "INFO:distributed.scheduler:State start\n",
            "INFO:distributed.scheduler:  Scheduler at:     tcp://127.0.0.1:37101\n",
            "INFO:distributed.scheduler:  dashboard at:  http://127.0.0.1:8787/status\n",
            "INFO:distributed.scheduler:Registering Worker plugin shuffle\n",
            "INFO:distributed.nanny:        Start Nanny at: 'tcp://127.0.0.1:37365'\n",
            "INFO:distributed.scheduler:Register worker <WorkerState 'tcp://127.0.0.1:34523', name: 0, status: init, memory: 0, processing: 0>\n",
            "INFO:distributed.scheduler:Starting worker compute stream, tcp://127.0.0.1:34523\n",
            "INFO:distributed.core:Starting established connection to tcp://127.0.0.1:42708\n",
            "INFO:distributed.scheduler:Receive client connection: Client-a6c075b5-aef9-11ef-a27c-0242ac1c000c\n",
            "INFO:distributed.core:Starting established connection to tcp://127.0.0.1:42714\n"
          ]
        }
      ]
    },
    {
      "cell_type": "code",
      "source": [
        "os.makedirs(\"actual_data\", exist_ok=True)\n",
        "os.makedirs(\"transformed_data\", exist_ok=True)\n",
        "os.makedirs(\"result_data\", exist_ok=True)"
      ],
      "metadata": {
        "id": "SYgE1m4l5t-D"
      },
      "execution_count": 4,
      "outputs": []
    },
    {
      "cell_type": "code",
      "source": [
        "def set_global_seed(seed):\n",
        "    np.random.seed(seed)\n",
        "    tf.random.set_seed(seed)\n",
        "    random.seed(seed)\n",
        "\n",
        "set_global_seed(42)"
      ],
      "metadata": {
        "id": "1w7drxgN6-Ib"
      },
      "execution_count": 5,
      "outputs": []
    },
    {
      "cell_type": "code",
      "source": [
        "start_time = time.time()\n",
        "existing_data_path = 'Credit.csv'\n",
        "column_name = 'Amount'\n",
        "output_dir = 'synthetic_data_1B'\n",
        "target_count = 1_000_000_000\n",
        "\n",
        "if not os.path.exists(output_dir):\n",
        "    os.makedirs(output_dir)\n",
        "\n",
        "if not any(os.scandir(output_dir)):\n",
        "    print(\"Output directory is empty. Generating synthetic data...\")\n",
        "    synthetic_data_generator.generate_synthetic_data(existing_data_path,\n",
        "                                                 column_name, output_dir,target_count)\n",
        "    print(f\"Synthetic data generated and stored in: {output_dir}\")\n",
        "else:\n",
        "    print(f\"Output directory '{output_dir}' is not empty. Skipping synthetic data generation.\")\n",
        "elapsed_time = (time.time() - start_time) / 60\n",
        "print(f\"Time taken: {elapsed_time:.2f} minutes\")"
      ],
      "metadata": {
        "colab": {
          "base_uri": "https://localhost:8080/"
        },
        "id": "ibIObG3Q6CsP",
        "outputId": "47bf4f91-898c-4b5b-e615-e77b91b0184a"
      },
      "execution_count": 6,
      "outputs": [
        {
          "output_type": "stream",
          "name": "stdout",
          "text": [
            "Output directory is empty. Generating synthetic data...\n",
            "Synthetic data generated and stored in: synthetic_data_1B\n",
            "Time taken: 1.41 minutes\n"
          ]
        }
      ]
    },
    {
      "cell_type": "code",
      "source": [
        "#Read the Files\n",
        "ddf = processor.read_input_data(output_dir,column_name)"
      ],
      "metadata": {
        "id": "_EAbI7TI7eqg"
      },
      "execution_count": 7,
      "outputs": []
    },
    {
      "cell_type": "code",
      "source": [
        "start_time = time.time()\n",
        "for i, partition in enumerate(ddf.to_delayed()):\n",
        "    processor.process_partition(partition.compute(), i)\n",
        "elapsed_time = (time.time() - start_time) / 60\n",
        "print(f\"Time taken: {elapsed_time:.2f} minutes\")"
      ],
      "metadata": {
        "colab": {
          "base_uri": "https://localhost:8080/"
        },
        "id": "5-HVCs2J_5G0",
        "outputId": "00806887-d868-4acb-a7f4-28a080139206"
      },
      "execution_count": 8,
      "outputs": [
        {
          "output_type": "stream",
          "name": "stdout",
          "text": [
            "Time taken: 6.51 minutes\n"
          ]
        }
      ]
    },
    {
      "cell_type": "code",
      "source": [
        "start_time = time.time()\n",
        "actual_folder = \"actual_data\"\n",
        "result_folder = \"result_data\"\n",
        "errors = evaluation.calculate_errors(actual_folder, result_folder, metric=\"rmse\")\n",
        "mean_error = np.mean(errors)\n",
        "print(\"Mean Error : \", mean_error)\n",
        "elapsed_time = (time.time() - start_time) / 60\n",
        "print(f\"Time taken: {elapsed_time:.2f} minutes\")"
      ],
      "metadata": {
        "colab": {
          "base_uri": "https://localhost:8080/"
        },
        "id": "kX3TQB7yFcUc",
        "outputId": "c1914085-dbf4-4ea5-d3d5-dbeae675df50"
      },
      "execution_count": 9,
      "outputs": [
        {
          "output_type": "stream",
          "name": "stdout",
          "text": [
            "Mean Error :  123.27544623745658\n",
            "Time taken: 0.80 minutes\n"
          ]
        }
      ]
    },
    {
      "cell_type": "markdown",
      "source": [
        "**Time Taken 1B records** :\n",
        "\n",
        "\n",
        "*   Generating a data  : 1 minute 41 seconds(One-time activity)\n",
        "*   Data Transformation and inv transformation of GMM : 6 minute 51 seconds\n",
        "*   Getting error metrics : 80 Seconds\n",
        "\n",
        "\n",
        "**Total execution time 1B records**:\n",
        "\n",
        "*   First Time : ~9 minutes 52 seconds\n",
        "*   Thereafter :  ~8 minutes 11 seconds\n",
        "\n",
        "\n",
        "\n",
        "\n",
        "\n",
        "\n",
        "\n"
      ],
      "metadata": {
        "id": "fS4RahCmNnWc"
      }
    },
    {
      "cell_type": "code",
      "source": [],
      "metadata": {
        "id": "JphAIRiqHnO9"
      },
      "execution_count": null,
      "outputs": []
    }
  ]
}